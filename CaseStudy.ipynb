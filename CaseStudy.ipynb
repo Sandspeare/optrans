{
 "cells": [
  {
   "attachments": {},
   "cell_type": "markdown",
   "metadata": {},
   "source": [
    "# Preparing the environment\n",
    "Loading models and tokenizers for OpTrans."
   ]
  },
  {
   "cell_type": "code",
   "execution_count": 1,
   "metadata": {},
   "outputs": [
    {
     "name": "stderr",
     "output_type": "stream",
     "text": [
      "/home/szh/anaconda3/envs/microlm/lib/python3.10/site-packages/tqdm/auto.py:21: TqdmWarning: IProgress not found. Please update jupyter and ipywidgets. See https://ipywidgets.readthedocs.io/en/stable/user_install.html\n",
      "  from .autonotebook import tqdm as notebook_tqdm\n",
      "Special tokens have been added in the vocabulary, make sure the associated word embeddings are fine-tuned or trained.\n"
     ]
    }
   ],
   "source": [
    "import torch\n",
    "import json\n",
    "from optrans import tokenize_function\n",
    "from transformers import AutoModel, AutoTokenizer\n",
    "\n",
    "device = torch.device(\"cuda\" if torch.cuda.is_available() else \"cpu\")\n",
    "\n",
    "tokenizer = AutoTokenizer.from_pretrained(\"sandspeare/optrans\", trust_remote_code=True)\n",
    "tokenizer.pad_token = tokenizer.unk_token\n",
    "\n",
    "encoder = AutoModel.from_pretrained(\"sandspeare/optrans\", trust_remote_code=True).to(device)\n",
    "file = \"./CaseStudy/casestudy.json\""
   ]
  },
  {
   "attachments": {},
   "cell_type": "markdown",
   "metadata": {},
   "source": [
    "# Encode the binary code"
   ]
  },
  {
   "cell_type": "code",
   "execution_count": 2,
   "metadata": {},
   "outputs": [
    {
     "name": "stderr",
     "output_type": "stream",
     "text": [
      "You're using a LlamaTokenizerFast tokenizer. Please note that with a fast tokenizer, using the `__call__` method is faster than using a method to encode the text followed by a call to the `pad` method to get a padded encoding.\n"
     ]
    },
    {
     "name": "stdout",
     "output_type": "stream",
     "text": [
      "{'O0': {'$loc_1$': ['$op_m_call$', '$function$0', '<', '$8.arg$0', '>'], '$loc_2$': ['$op_m_mov$', '$op_m_icall$', 'cs', '[', 'ds', '(', '[', 'ds', '[', 'ds', '(', '$8.arg$0', '$op_m_add$', '0x68', ')', ']', ']', '$op_m_add$', '0x68', ')', ']', '<', '[', 'ds', '(', '$8.arg$0', '$op_m_add$', '0x68', ')', ']', ',', '$op_m_xdu$', '$4.arg$1', ',', '[', 'ds', '(', '$8.arg$0', '$op_m_add$', '0x48', ')', ']', ',', '[', 'ds', '(', '$8.arg$0', '$op_m_add$', '0x50', ')', ']', '>', '$8.result$'], '$loc_3$': ['$ret$']}, 'O0_inline': {'$loc_1$': ['$op_m_mov$', '$8.arg$0', '$8.stack$5'], '$loc_2$': ['$op_m_add$', '$8.arg$0', '0x88', '$8.stack$3'], '$loc_3$': ['$op_m_ldx$', 'ds', '(', '$8.arg$0', '$op_m_add$', '0x80', ')', '$8.stack$4'], '$loc_4$': ['$op_m_low.4$', '$op_m_icall$', 'cs', '[', 'ds', '(', '[', 'ds', '[', 'ds', '(', '$8.arg$0', '$op_m_add$', '0x68', ')', ']', ']', '$op_m_add$', '0x10', ')', ']', '<', '[', 'ds', '(', '$8.arg$0', '$op_m_add$', '0x68', ')', ']', '>', '$4.stack$0'], '$loc_5$': ['$op_m_mov$', '0x0', '$4.stack$1'], '$loc_6$': ['$op_m_goto$', '$loc_15$'], '$loc_7$': ['$op_m_ldx$', 'ds', '[', 'ds', '(', '[', 'ds', '(', '$8.arg$0', '$op_m_add$', '0x48', ')', ']', '$op_m_add$', '(', '0x8', '$op_m_mul$', '$op_m_xds$', '$4.stack$0', ')', ')', ']', '$4.stack$2'], '$loc_8$': ['$op_m_mov$', '$8.stack$3', '$8.var$0'], '$loc_9$': ['$op_m_add$', '$8.stack$3', '0x18', '$8.stack$3'], '$loc_10$': ['$op_m_mov$', '$8.var$0', '$8.stack$5'], '$loc_11$': ['$op_m_mov$', '$4.stack$2', '$4.arg$1'], '$loc_12$': ['$op_m_icall$', 'cs', '[', 'ds', '$8.var$0', ']', '<', '$8.var$0', ',', '$op_m_low.8$', '>'], '$loc_13$': ['$op_m_add$', '$4.stack$0', '0x1', '$4.stack$0'], '$loc_14$': ['$op_m_add$', '$4.stack$1', '0x1', '$4.stack$1'], '$loc_15$': ['$op_m_ja$', '$8.stack$4', '$op_m_xds$', '$4.stack$1', '$loc_7$'], '$loc_16$': ['$op_m_mov$', '$op_m_icall$', 'cs', '[', 'ds', '(', '[', 'ds', '[', 'ds', '(', '$8.stack$5', '$op_m_add$', '0x68', ')', ']', ']', '$op_m_add$', '0x68', ')', ']', '<', '[', 'ds', '(', '$8.stack$5', '$op_m_add$', '0x68', ')', ']', ',', '$op_m_xdu$', '$4.arg$1', ',', '[', 'ds', '(', '$8.stack$5', '$op_m_add$', '0x48', ')', ']', ',', '[', 'ds', '(', '$8.stack$5', '$op_m_add$', '0x50', ')', ']', '>', '$8.result$'], '$loc_17$': ['$ret$']}, 'O3': {'$loc_1$': ['$op_m_add$', '$8.arg$0', '0x88', '$8.var$0'], '$loc_2$': ['$op_m_ldx$', 'ds', '(', '$8.arg$0', '$op_m_add$', '0x80', ')', '$8.var$1'], '$loc_3$': ['$op_m_ldx$', 'ds', '(', '[', 'ds', '[', 'ds', '(', '$8.arg$0', '$op_m_add$', '0x68', ')', ']', ']', '$op_m_add$', '0x10', ')', '$8.var$2'], '$loc_4$': ['$op_m_mov$', '0x32', '$4.var$3'], '$loc_5$': ['$op_m_jz$', '$8.var$2', 'mydsp::getNumInputs', '$loc_7$'], '$loc_6$': ['$op_m_low.4$', '$op_m_icall$', 'cs', '$8.var$2', '<', '>', '$4.var$3'], '$loc_7$': ['$op_m_jz$', '$8.var$1', '0x0', '$loc_17$'], '$loc_8$': ['$op_m_mov$', '0x0', '$8.var$4'], '$loc_9$': ['$op_m_mul$', '0x8', '$op_m_xds$', '$4.var$3', '$8.var$5'], '$loc_10$': ['$op_m_mov$', '$8.var$0', '$8.var$6'], '$loc_11$': ['$op_m_add$', '$8.var$4', '0x1', '$8.var$4'], '$loc_12$': ['$op_m_add$', '$8.var$0', '0x18', '$8.var$0'], '$loc_13$': ['$op_m_ldx$', 'ds', '(', '[', 'ds', '(', '$8.arg$0', '$op_m_add$', '0x48', ')', ']', '$op_m_add$', '$8.var$5', ')', '$8.var$7'], '$loc_14$': ['$op_m_add$', '$8.var$5', '0x8', '$8.var$5'], '$loc_15$': ['$op_m_icall$', 'cs', '[', 'ds', '(', '$8.var$0', '$op_m_sub$', '0x18', ')', ']', '<', '$8.var$6', ',', '[', 'ds', '$8.var$7', ']', '>'], '$loc_16$': ['$op_m_jnz$', '$8.var$1', '$8.var$4', '$loc_10$'], '$loc_17$': ['$op_m_mov$', '$op_m_icall$', 'cs', '[', 'ds', '(', '[', 'ds', '[', 'ds', '(', '$8.arg$0', '$op_m_add$', '0x68', ')', ']', ']', '$op_m_add$', '0x68', ')', ']', '<', '[', 'ds', '(', '$8.arg$0', '$op_m_add$', '0x68', ')', ']', ',', '$op_m_xdu$', '$4.arg$1', ',', '[', 'ds', '(', '$8.arg$0', '$op_m_add$', '0x48', ')', ']', ',', '[', 'ds', '(', '$8.arg$0', '$op_m_add$', '0x50', ')', ']', '>', '$8.result$'], '$loc_18$': ['$ret$']}}\n",
      "tensor([[ 0.0156,  0.0248,  0.0091,  ...,  0.0102, -0.0508,  0.0254]],\n",
      "       device='cuda:0')\n",
      "tensor([[ 0.0217,  0.0770, -0.0291,  ..., -0.0149,  0.0124, -0.0011]],\n",
      "       device='cuda:0')\n",
      "tensor([[-0.0144,  0.0389,  0.0051,  ...,  0.0159, -0.0082, -0.0207]],\n",
      "       device='cuda:0')\n"
     ]
    }
   ],
   "source": [
    "\n",
    "with open(file) as fp:\n",
    "    data = json.load(fp)\n",
    "\n",
    "print(data)\n",
    "with torch.no_grad():\n",
    "    asm_O0 = tokenize_function(tokenizer, data[\"O0\"])\n",
    "    asm_O0_inline = tokenize_function(tokenizer, data[\"O0_inline\"])\n",
    "    asm_O3 = tokenize_function(tokenizer, data[\"O3\"])\n",
    "\n",
    "\n",
    "    asm_embedding_O0 = encoder(**tokenizer.pad([asm_O0], padding=True, pad_to_multiple_of=8, return_tensors=\"pt\", verbose=False).to(device))\n",
    "    asm_embedding_O0_inline = encoder(**tokenizer.pad([asm_O0_inline], padding=True, pad_to_multiple_of=8, return_tensors=\"pt\", verbose=False).to(device))\n",
    "    asm_embedding_O3 = encoder(**tokenizer.pad([asm_O3], padding=True, pad_to_multiple_of=8, return_tensors=\"pt\", verbose=False).to(device))\n",
    "\n",
    "print(asm_embedding_O0)\n",
    "print(asm_embedding_O0_inline)\n",
    "print(asm_embedding_O3)"
   ]
  },
  {
   "attachments": {},
   "cell_type": "markdown",
   "metadata": {},
   "source": [
    "# Perform similarity comparison"
   ]
  },
  {
   "cell_type": "code",
   "execution_count": 3,
   "metadata": {},
   "outputs": [
    {
     "name": "stdout",
     "output_type": "stream",
     "text": [
      "Probability: O0 vs O3 =  0.079\n",
      "Probability: O0_inline vs O3 =  0.921\n"
     ]
    }
   ],
   "source": [
    "sim_O0vsO3 = torch.mm(asm_embedding_O0, asm_embedding_O3.T).squeeze() / 0.07\n",
    "sim_O0_inlinevsO3 = torch.mm(asm_embedding_O0_inline, asm_embedding_O3.T).squeeze() / 0.07\n",
    "\n",
    "category_scores = torch.tensor([sim_O0vsO3, sim_O0_inlinevsO3], device=device)  \n",
    "  \n",
    "probabilities = torch.nn.functional.softmax(category_scores, dim=0).squeeze(0).tolist()\n",
    "  \n",
    "print(\"Probability: O0 vs O3 = \", round(probabilities[0], 3))\n",
    "print(\"Probability: O0_inline vs O3 = \", round(probabilities[1], 3))\n",
    "\n"
   ]
  }
 ],
 "metadata": {
  "kernelspec": {
   "display_name": "llasm",
   "language": "python",
   "name": "python3"
  },
  "language_info": {
   "codemirror_mode": {
    "name": "ipython",
    "version": 3
   },
   "file_extension": ".py",
   "mimetype": "text/x-python",
   "name": "python",
   "nbconvert_exporter": "python",
   "pygments_lexer": "ipython3",
   "version": "3.10.13"
  },
  "orig_nbformat": 4
 },
 "nbformat": 4,
 "nbformat_minor": 2
}
