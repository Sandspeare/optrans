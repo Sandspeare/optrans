{
 "cells": [
  {
   "attachments": {},
   "cell_type": "markdown",
   "metadata": {},
   "source": [
    "# Preparing the environment\n",
    "Loading models and tokenizers for OpTrans."
   ]
  },
  {
   "cell_type": "code",
   "execution_count": 2,
   "metadata": {},
   "outputs": [
    {
     "name": "stderr",
     "output_type": "stream",
     "text": [
      "Special tokens have been added in the vocabulary, make sure the associated word embeddings are fine-tuned or trained.\n"
     ]
    }
   ],
   "source": [
    "import torch\n",
    "import json\n",
    "from optrans import tokenize_function\n",
    "from transformers import AutoModel, AutoTokenizer\n",
    "\n",
    "device = torch.device(\"cuda\" if torch.cuda.is_available() else \"cpu\")\n",
    "\n",
    "tokenizer = AutoTokenizer.from_pretrained(\"sandspeare/optrans\", trust_remote_code=True)\n",
    "tokenizer.pad_token = tokenizer.unk_token\n",
    "\n",
    "encoder = AutoModel.from_pretrained(\"sandspeare/optrans\", trust_remote_code=True).to(device)\n",
    "file = \"./CaseStudy/casestudy.json\""
   ]
  },
  {
   "attachments": {},
   "cell_type": "markdown",
   "metadata": {},
   "source": [
    "# Encode the binary code"
   ]
  },
  {
   "cell_type": "code",
   "execution_count": 3,
   "metadata": {},
   "outputs": [
    {
     "name": "stderr",
     "output_type": "stream",
     "text": [
      "You're using a LlamaTokenizerFast tokenizer. Please note that with a fast tokenizer, using the `__call__` method is faster than using a method to encode the text followed by a call to the `pad` method to get a padded encoding.\n"
     ]
    },
    {
     "name": "stdout",
     "output_type": "stream",
     "text": [
      "tensor([[ 0.0156,  0.0248,  0.0091,  ...,  0.0102, -0.0508,  0.0254]],\n",
      "       device='cuda:0')\n",
      "tensor([[ 0.0217,  0.0770, -0.0291,  ..., -0.0149,  0.0124, -0.0011]],\n",
      "       device='cuda:0')\n",
      "tensor([[-0.0144,  0.0389,  0.0051,  ...,  0.0159, -0.0082, -0.0207]],\n",
      "       device='cuda:0')\n"
     ]
    }
   ],
   "source": [
    "\n",
    "with open(file) as fp:\n",
    "    data = json.load(fp)\n",
    "\n",
    "with torch.no_grad():\n",
    "    asm_O0 = tokenize_function(tokenizer, data[\"O0\"])\n",
    "    asm_O0_inline = tokenize_function(tokenizer, data[\"O0_inline\"])\n",
    "    asm_O3 = tokenize_function(tokenizer, data[\"O3\"])\n",
    "\n",
    "\n",
    "    asm_embedding_O0 = encoder(**tokenizer.pad([asm_O0], padding=True, pad_to_multiple_of=8, return_tensors=\"pt\", verbose=False).to(device))\n",
    "    asm_embedding_O0_inline = encoder(**tokenizer.pad([asm_O0_inline], padding=True, pad_to_multiple_of=8, return_tensors=\"pt\", verbose=False).to(device))\n",
    "    asm_embedding_O3 = encoder(**tokenizer.pad([asm_O3], padding=True, pad_to_multiple_of=8, return_tensors=\"pt\", verbose=False).to(device))\n",
    "\n",
    "print(asm_embedding_O0)\n",
    "print(asm_embedding_O0_inline)\n",
    "print(asm_embedding_O3)"
   ]
  },
  {
   "attachments": {},
   "cell_type": "markdown",
   "metadata": {},
   "source": [
    "# Perform similarity comparison"
   ]
  },
  {
   "cell_type": "code",
   "execution_count": 4,
   "metadata": {},
   "outputs": [
    {
     "name": "stdout",
     "output_type": "stream",
     "text": [
      "Probability: O0 vs O3 =  0.079\n",
      "Probability: O0_inline vs O3 =  0.921\n"
     ]
    }
   ],
   "source": [
    "sim_O0vsO3 = torch.mm(asm_embedding_O0, asm_embedding_O3.T).squeeze() / 0.07\n",
    "sim_O0_inlinevsO3 = torch.mm(asm_embedding_O0_inline, asm_embedding_O3.T).squeeze() / 0.07\n",
    "\n",
    "category_scores = torch.tensor([sim_O0vsO3, sim_O0_inlinevsO3], device=device)  \n",
    "  \n",
    "probabilities = torch.nn.functional.softmax(category_scores, dim=0).squeeze(0).tolist()\n",
    "  \n",
    "print(\"Probability: O0 vs O3 = \", round(probabilities[0], 3))\n",
    "print(\"Probability: O0_inline vs O3 = \", round(probabilities[1], 3))\n",
    "\n"
   ]
  }
 ],
 "metadata": {
  "kernelspec": {
   "display_name": "llasm",
   "language": "python",
   "name": "python3"
  },
  "language_info": {
   "codemirror_mode": {
    "name": "ipython",
    "version": 3
   },
   "file_extension": ".py",
   "mimetype": "text/x-python",
   "name": "python",
   "nbconvert_exporter": "python",
   "pygments_lexer": "ipython3",
   "version": "3.10.13"
  },
  "orig_nbformat": 4
 },
 "nbformat": 4,
 "nbformat_minor": 2
}
